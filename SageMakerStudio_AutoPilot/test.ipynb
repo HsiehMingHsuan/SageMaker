{
 "cells": [
  {
   "cell_type": "code",
   "execution_count": 9,
   "source": [
    "import boto3,sys\r\n",
    "\r\n",
    "sm_rt = boto3.Session().client('runtime.sagemaker')"
   ],
   "outputs": [],
   "metadata": {}
  },
  {
   "cell_type": "code",
   "execution_count": 10,
   "source": [
    "ep_name = 'SageMaker-AutoPilot-Test-20210727'"
   ],
   "outputs": [],
   "metadata": {}
  },
  {
   "cell_type": "code",
   "execution_count": 17,
   "source": [
    "import csv\r\n",
    "with open('predict.csv', 'w') as fp:\r\n",
    "    writer = csv.writer(fp)\r\n",
    "    writer.writerow(['id', 'tested_positive'])\r\n",
    "    with open('covid.test.csv') as f:\r\n",
    "        lines = f.readlines()\r\n",
    "        for l in lines[1:]:   # Skip header\r\n",
    "            l = l.split(',')  # Split CSV line into features\r\n",
    "            iD = l[0]\r\n",
    "            l = l[1:]\r\n",
    "            l = ','.join(l)   # Rebuild CSV line without label\r\n",
    "            response = sm_rt.invoke_endpoint(EndpointName=ep_name, ContentType='text/csv', Accept='text/csv', Body=l)\r\n",
    "            response = response['Body'].read().decode(\"utf-8\")\r\n",
    "            writer.writerow([iD, response])\r\n",
    "    #         print(response)\r\n",
    "        "
   ],
   "outputs": [],
   "metadata": {}
  },
  {
   "cell_type": "code",
   "execution_count": null,
   "source": [],
   "outputs": [],
   "metadata": {}
  }
 ],
 "metadata": {
  "kernelspec": {
   "display_name": "Python 3 (Data Science)",
   "language": "python",
   "name": "python3__SAGEMAKER_INTERNAL__arn:aws:sagemaker:ap-northeast-1:102112518831:image/datascience-1.0"
  },
  "language_info": {
   "codemirror_mode": {
    "name": "ipython",
    "version": 3
   },
   "file_extension": ".py",
   "mimetype": "text/x-python",
   "name": "python",
   "nbconvert_exporter": "python",
   "pygments_lexer": "ipython3",
   "version": "3.7.10"
  }
 },
 "nbformat": 4,
 "nbformat_minor": 4
}